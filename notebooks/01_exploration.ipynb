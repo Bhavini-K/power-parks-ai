{
 "cells": [
  {
   "cell_type": "code",
   "execution_count": 3,
   "id": "db7a8205-53ad-4c72-8930-c96dfcf09a5a",
   "metadata": {},
   "outputs": [],
   "source": [
    "# 01_exploration.ipynb\n",
    "\n",
    "# --- Notebook: Initial Exploration of Zoning Text Documents ---\n"
   ]
  },
  {
   "cell_type": "code",
   "execution_count": 4,
   "id": "9b87d779-caae-447b-b5b7-13b795f7645e",
   "metadata": {},
   "outputs": [],
   "source": [
    "# 📦 Import libraries\n",
    "import pandas as pd\n",
    "import re"
   ]
  },
  {
   "cell_type": "code",
   "execution_count": 5,
   "id": "38b82911-7d75-4c42-8245-0b4c61cc8e49",
   "metadata": {},
   "outputs": [
    {
     "name": "stdout",
     "output_type": "stream",
     "text": [
      "Requirement already satisfied: spacy in /Users/bhavinikapur/miniconda3/lib/python3.12/site-packages (3.8.7)\n",
      "Requirement already satisfied: spacy-legacy<3.1.0,>=3.0.11 in /Users/bhavinikapur/miniconda3/lib/python3.12/site-packages (from spacy) (3.0.12)\n",
      "Requirement already satisfied: spacy-loggers<2.0.0,>=1.0.0 in /Users/bhavinikapur/miniconda3/lib/python3.12/site-packages (from spacy) (1.0.5)\n",
      "Requirement already satisfied: murmurhash<1.1.0,>=0.28.0 in /Users/bhavinikapur/miniconda3/lib/python3.12/site-packages (from spacy) (1.0.13)\n",
      "Requirement already satisfied: cymem<2.1.0,>=2.0.2 in /Users/bhavinikapur/miniconda3/lib/python3.12/site-packages (from spacy) (2.0.11)\n",
      "Requirement already satisfied: preshed<3.1.0,>=3.0.2 in /Users/bhavinikapur/miniconda3/lib/python3.12/site-packages (from spacy) (3.0.10)\n",
      "Requirement already satisfied: thinc<8.4.0,>=8.3.4 in /Users/bhavinikapur/miniconda3/lib/python3.12/site-packages (from spacy) (8.3.6)\n",
      "Requirement already satisfied: wasabi<1.2.0,>=0.9.1 in /Users/bhavinikapur/miniconda3/lib/python3.12/site-packages (from spacy) (1.1.3)\n",
      "Requirement already satisfied: srsly<3.0.0,>=2.4.3 in /Users/bhavinikapur/miniconda3/lib/python3.12/site-packages (from spacy) (2.5.1)\n",
      "Requirement already satisfied: catalogue<2.1.0,>=2.0.6 in /Users/bhavinikapur/miniconda3/lib/python3.12/site-packages (from spacy) (2.0.10)\n",
      "Requirement already satisfied: weasel<0.5.0,>=0.1.0 in /Users/bhavinikapur/miniconda3/lib/python3.12/site-packages (from spacy) (0.4.1)\n",
      "Requirement already satisfied: typer<1.0.0,>=0.3.0 in /Users/bhavinikapur/miniconda3/lib/python3.12/site-packages (from spacy) (0.16.0)\n",
      "Requirement already satisfied: tqdm<5.0.0,>=4.38.0 in /Users/bhavinikapur/miniconda3/lib/python3.12/site-packages (from spacy) (4.66.4)\n",
      "Requirement already satisfied: numpy>=1.19.0 in /Users/bhavinikapur/miniconda3/lib/python3.12/site-packages (from spacy) (2.3.1)\n",
      "Requirement already satisfied: requests<3.0.0,>=2.13.0 in /Users/bhavinikapur/miniconda3/lib/python3.12/site-packages (from spacy) (2.32.2)\n",
      "Requirement already satisfied: pydantic!=1.8,!=1.8.1,<3.0.0,>=1.7.4 in /Users/bhavinikapur/miniconda3/lib/python3.12/site-packages (from spacy) (2.11.7)\n",
      "Requirement already satisfied: jinja2 in /Users/bhavinikapur/miniconda3/lib/python3.12/site-packages (from spacy) (3.1.6)\n",
      "Requirement already satisfied: setuptools in /Users/bhavinikapur/miniconda3/lib/python3.12/site-packages (from spacy) (69.5.1)\n",
      "Requirement already satisfied: packaging>=20.0 in /Users/bhavinikapur/miniconda3/lib/python3.12/site-packages (from spacy) (23.2)\n",
      "Requirement already satisfied: langcodes<4.0.0,>=3.2.0 in /Users/bhavinikapur/miniconda3/lib/python3.12/site-packages (from spacy) (3.5.0)\n",
      "Requirement already satisfied: language-data>=1.2 in /Users/bhavinikapur/miniconda3/lib/python3.12/site-packages (from langcodes<4.0.0,>=3.2.0->spacy) (1.3.0)\n",
      "Requirement already satisfied: annotated-types>=0.6.0 in /Users/bhavinikapur/miniconda3/lib/python3.12/site-packages (from pydantic!=1.8,!=1.8.1,<3.0.0,>=1.7.4->spacy) (0.7.0)\n",
      "Requirement already satisfied: pydantic-core==2.33.2 in /Users/bhavinikapur/miniconda3/lib/python3.12/site-packages (from pydantic!=1.8,!=1.8.1,<3.0.0,>=1.7.4->spacy) (2.33.2)\n",
      "Requirement already satisfied: typing-extensions>=4.12.2 in /Users/bhavinikapur/miniconda3/lib/python3.12/site-packages (from pydantic!=1.8,!=1.8.1,<3.0.0,>=1.7.4->spacy) (4.14.1)\n",
      "Requirement already satisfied: typing-inspection>=0.4.0 in /Users/bhavinikapur/miniconda3/lib/python3.12/site-packages (from pydantic!=1.8,!=1.8.1,<3.0.0,>=1.7.4->spacy) (0.4.1)\n",
      "Requirement already satisfied: charset-normalizer<4,>=2 in /Users/bhavinikapur/miniconda3/lib/python3.12/site-packages (from requests<3.0.0,>=2.13.0->spacy) (2.0.4)\n",
      "Requirement already satisfied: idna<4,>=2.5 in /Users/bhavinikapur/miniconda3/lib/python3.12/site-packages (from requests<3.0.0,>=2.13.0->spacy) (3.7)\n",
      "Requirement already satisfied: urllib3<3,>=1.21.1 in /Users/bhavinikapur/miniconda3/lib/python3.12/site-packages (from requests<3.0.0,>=2.13.0->spacy) (2.2.2)\n",
      "Requirement already satisfied: certifi>=2017.4.17 in /Users/bhavinikapur/miniconda3/lib/python3.12/site-packages (from requests<3.0.0,>=2.13.0->spacy) (2024.7.4)\n",
      "Requirement already satisfied: blis<1.4.0,>=1.3.0 in /Users/bhavinikapur/miniconda3/lib/python3.12/site-packages (from thinc<8.4.0,>=8.3.4->spacy) (1.3.0)\n",
      "Requirement already satisfied: confection<1.0.0,>=0.0.1 in /Users/bhavinikapur/miniconda3/lib/python3.12/site-packages (from thinc<8.4.0,>=8.3.4->spacy) (0.1.5)\n",
      "Requirement already satisfied: click>=8.0.0 in /Users/bhavinikapur/miniconda3/lib/python3.12/site-packages (from typer<1.0.0,>=0.3.0->spacy) (8.2.1)\n",
      "Requirement already satisfied: shellingham>=1.3.0 in /Users/bhavinikapur/miniconda3/lib/python3.12/site-packages (from typer<1.0.0,>=0.3.0->spacy) (1.5.4)\n",
      "Requirement already satisfied: rich>=10.11.0 in /Users/bhavinikapur/miniconda3/lib/python3.12/site-packages (from typer<1.0.0,>=0.3.0->spacy) (14.0.0)\n",
      "Requirement already satisfied: cloudpathlib<1.0.0,>=0.7.0 in /Users/bhavinikapur/miniconda3/lib/python3.12/site-packages (from weasel<0.5.0,>=0.1.0->spacy) (0.21.1)\n",
      "Requirement already satisfied: smart-open<8.0.0,>=5.2.1 in /Users/bhavinikapur/miniconda3/lib/python3.12/site-packages (from weasel<0.5.0,>=0.1.0->spacy) (7.3.0.post1)\n",
      "Requirement already satisfied: MarkupSafe>=2.0 in /Users/bhavinikapur/miniconda3/lib/python3.12/site-packages (from jinja2->spacy) (3.0.2)\n",
      "Requirement already satisfied: marisa-trie>=1.1.0 in /Users/bhavinikapur/miniconda3/lib/python3.12/site-packages (from language-data>=1.2->langcodes<4.0.0,>=3.2.0->spacy) (1.2.1)\n",
      "Requirement already satisfied: markdown-it-py>=2.2.0 in /Users/bhavinikapur/miniconda3/lib/python3.12/site-packages (from rich>=10.11.0->typer<1.0.0,>=0.3.0->spacy) (3.0.0)\n",
      "Requirement already satisfied: pygments<3.0.0,>=2.13.0 in /Users/bhavinikapur/miniconda3/lib/python3.12/site-packages (from rich>=10.11.0->typer<1.0.0,>=0.3.0->spacy) (2.19.2)\n",
      "Requirement already satisfied: wrapt in /Users/bhavinikapur/miniconda3/lib/python3.12/site-packages (from smart-open<8.0.0,>=5.2.1->weasel<0.5.0,>=0.1.0->spacy) (1.17.2)\n",
      "Requirement already satisfied: mdurl~=0.1 in /Users/bhavinikapur/miniconda3/lib/python3.12/site-packages (from markdown-it-py>=2.2.0->rich>=10.11.0->typer<1.0.0,>=0.3.0->spacy) (0.1.2)\n",
      "Note: you may need to restart the kernel to use updated packages.\n"
     ]
    }
   ],
   "source": [
    "pip install spacy"
   ]
  },
  {
   "cell_type": "code",
   "execution_count": 6,
   "id": "d5f2d544-a87f-47b6-a32a-0b7774d32bb9",
   "metadata": {},
   "outputs": [],
   "source": [
    "import spacy\n",
    "from collections import Counter"
   ]
  },
  {
   "cell_type": "code",
   "execution_count": 7,
   "id": "ea758db8-fef3-4269-bfbe-97f796408171",
   "metadata": {},
   "outputs": [
    {
     "name": "stdout",
     "output_type": "stream",
     "text": [
      "Requirement already satisfied: pdfplumber in /Users/bhavinikapur/miniconda3/lib/python3.12/site-packages (0.11.7)\n",
      "Requirement already satisfied: pdfminer.six==20250506 in /Users/bhavinikapur/miniconda3/lib/python3.12/site-packages (from pdfplumber) (20250506)\n",
      "Requirement already satisfied: Pillow>=9.1 in /Users/bhavinikapur/miniconda3/lib/python3.12/site-packages (from pdfplumber) (11.3.0)\n",
      "Requirement already satisfied: pypdfium2>=4.18.0 in /Users/bhavinikapur/miniconda3/lib/python3.12/site-packages (from pdfplumber) (4.30.1)\n",
      "Requirement already satisfied: charset-normalizer>=2.0.0 in /Users/bhavinikapur/miniconda3/lib/python3.12/site-packages (from pdfminer.six==20250506->pdfplumber) (2.0.4)\n",
      "Requirement already satisfied: cryptography>=36.0.0 in /Users/bhavinikapur/miniconda3/lib/python3.12/site-packages (from pdfminer.six==20250506->pdfplumber) (42.0.5)\n",
      "Requirement already satisfied: cffi>=1.12 in /Users/bhavinikapur/miniconda3/lib/python3.12/site-packages (from cryptography>=36.0.0->pdfminer.six==20250506->pdfplumber) (1.16.0)\n",
      "Requirement already satisfied: pycparser in /Users/bhavinikapur/miniconda3/lib/python3.12/site-packages (from cffi>=1.12->cryptography>=36.0.0->pdfminer.six==20250506->pdfplumber) (2.21)\n",
      "Note: you may need to restart the kernel to use updated packages.\n"
     ]
    }
   ],
   "source": [
    "pip install pdfplumber"
   ]
  },
  {
   "cell_type": "code",
   "execution_count": 8,
   "id": "9dfcd5c5-636a-4450-8c12-7ace42b09808",
   "metadata": {},
   "outputs": [],
   "source": [
    "import pdfplumber\n",
    "\n",
    "# Path to your zoning PDF file\n",
    "pdf_path = \"/Users/bhavinikapur/Desktop/power parks- ai/Article IV- Manufacturing Zoning District.pdf\""
   ]
  },
  {
   "cell_type": "code",
   "execution_count": 9,
   "id": "bd44c52c-7e41-466a-890b-a4ed807f7208",
   "metadata": {},
   "outputs": [],
   "source": [
    "# Initialize empty string to collect text\n",
    "full_text = \"\""
   ]
  },
  {
   "cell_type": "code",
   "execution_count": 10,
   "id": "cbbae09e-9274-4885-82be-1955c70acbaa",
   "metadata": {},
   "outputs": [],
   "source": [
    "with pdfplumber.open(pdf_path) as pdf:\n",
    "    for page in pdf.pages:\n",
    "        text = page.extract_text()\n",
    "        if text:\n",
    "            full_text += text + \"\\n\""
   ]
  },
  {
   "cell_type": "code",
   "execution_count": 11,
   "id": "5328aa4e-7f57-40d8-b302-9f08ce3dbd98",
   "metadata": {},
   "outputs": [
    {
     "name": "stdout",
     "output_type": "stream",
     "text": [
      "✅ PDF text extraction complete! Saved as sample_zoning_text.txt\n"
     ]
    }
   ],
   "source": [
    "# Save as plain text for later use\n",
    "with open(\"/Users/bhavinikapur/Desktop/power parks- ai/sample_zoning_text.txt\", \"w\", encoding=\"utf-8\") as f:\n",
    "    f.write(full_text)\n",
    "\n",
    "print(\"✅ PDF text extraction complete! Saved as sample_zoning_text.txt\")"
   ]
  },
  {
   "cell_type": "code",
   "execution_count": 12,
   "id": "b4fc19fe-4c74-4208-9ba3-394040ab27a6",
   "metadata": {},
   "outputs": [
    {
     "name": "stdout",
     "output_type": "stream",
     "text": [
      "✅ Loaded zoning text document. First 1000 characters preview:\n",
      "ZZoonniinngg RReessoolluuttiioonn\n",
      "TTHHEE CCIITTYY OOFF NNEEWW YYOORRKK CCIITTYY PPLLAANNNNIINNGG CCOOMMMMIISSSSIIOONN\n",
      "EErriicc AAddaammss,, MMaayyoorr DDaanniieell RR.. GGaarrooddnniicckk,, CChhaaiirr\n",
      "Article IV - Manufacturing District Regulations\n",
      "File generated by https://zr.planning.nyc.gov on 7/1/2025\n",
      "ZZoonniinngg RReessoolluuttiioonn\n",
      "TTHHEE CCIITTYY OOFF NNEEWW YYOORRKK CCIITTYY PPLLAANNNNIINNGG CCOOMMMMIISSSSIIOONN\n",
      "EErriicc AAddaammss,, MMaayyoorr DDaanniieell RR.. GGaarrooddnniicckk,, CChhaaiirr\n",
      "Chapter 1 - Statement of Legislative Intent\n",
      "File generated by https://zr.planning.nyc.gov on 7/1/2025\n",
      "Chapter 1 - Statement of Legislative Intent\n",
      "41-00 - GENERAL PURPOSES OF MANUFACTURING DISTRICTS\n",
      "LAST AMENDED\n",
      "12/21/1989\n",
      "The Manufacturing Districts established in this Resolution are designed to promote and protect public health, safety, and\n",
      "general welfare. These general goals include, among others, the following specific purposes:\n",
      "(a) To provide sufficient space, in appropriate locatio\n"
     ]
    }
   ],
   "source": [
    "# --- Load sample zoning text file ---\n",
    "# Replace this path with your actual file location\n",
    "with open(\"/Users/bhavinikapur/Desktop/power parks- ai/sample_zoning_text.txt\", \"r\", encoding=\"utf-8\") as f:\n",
    "    zoning_text = f.read()\n",
    "\n",
    "print(\"✅ Loaded zoning text document. First 1000 characters preview:\")\n",
    "print(zoning_text[:1000])"
   ]
  },
  {
   "cell_type": "code",
   "execution_count": 13,
   "id": "e08abfda-87b0-4c87-8c0c-d169e1443ac6",
   "metadata": {},
   "outputs": [],
   "source": [
    "import re"
   ]
  },
  {
   "cell_type": "code",
   "execution_count": 14,
   "id": "b8ac9eb7-12bb-4ab1-8e05-5b016e74a413",
   "metadata": {},
   "outputs": [
    {
     "name": "stdout",
     "output_type": "stream",
     "text": [
      "\n",
      "✅ Cleaned text sample:\n",
      "ZZoonniinngg RReessoolluuttiioonn TTHHEE CCIITTYY OOFF NNEEWW YYOORRKK CCIITTYY PPLLAANNNNIINNGG CCOOMMMMIISSSSIIOONN EErriicc AAddaammss,, MMaayyoorr DDaanniieell RR.. GGaarrooddnniicckk,, CChhaaiirr Article IV - Manufacturing District Regulations File generated by https://zr.planning.nyc.gov on 7/1/2025 ZZoonniinngg RReessoolluuttiioonn TTHHEE CCIITTYY OOFF NNEEWW YYOORRKK CCIITTYY PPLLAANNNNIINNGG CCOOMMMMIISSSSIIOONN EErriicc AAddaammss,, MMaayyoorr DDaanniieell RR.. GGaarrooddnniicckk,, CCh\n"
     ]
    }
   ],
   "source": [
    "# --- Basic cleaning ---\n",
    "# Remove extra whitespace\n",
    "cleaned_text = re.sub(r'\\s+', ' ', zoning_text)\n",
    "print(\"\\n✅ Cleaned text sample:\")\n",
    "print(cleaned_text[:500])"
   ]
  },
  {
   "cell_type": "code",
   "execution_count": 15,
   "id": "8e7dcac8-30af-4eba-93a6-972df3bb76f0",
   "metadata": {},
   "outputs": [],
   "source": [
    "# Load English model; download if not yet installed\n",
    "try:\n",
    "    nlp = spacy.load(\"en_core_web_sm\")\n",
    "except:\n",
    "    import os\n",
    "    os.system(\"python -m spacy download en_core_web_sm\")\n",
    "    nlp = spacy.load(\"en_core_web_sm\")\n"
   ]
  },
  {
   "cell_type": "code",
   "execution_count": 16,
   "id": "f354329c-1b94-44bc-9422-feb04bba6aec",
   "metadata": {},
   "outputs": [
    {
     "name": "stdout",
     "output_type": "stream",
     "text": [
      "✅ spaCy processing complete!\n"
     ]
    }
   ],
   "source": [
    "doc = nlp(cleaned_text)\n",
    "print(\"✅ spaCy processing complete!\")\n"
   ]
  },
  {
   "cell_type": "code",
   "execution_count": 17,
   "id": "8f9cf169-f307-4ad5-ad87-fb5d1ead98e8",
   "metadata": {},
   "outputs": [
    {
     "name": "stdout",
     "output_type": "stream",
     "text": [
      "\n",
      "✅ Named Entities (first 20):\n",
      "ZZoonniinngg RReessoolluuttiioonn TTHHEE (PERSON)\n",
      "PPLLAANNNNIINNGG CCOOMMMMIISSSSIIOONN (PERSON)\n",
      "MMaayyoorr DDaanniieell RR (PERSON)\n",
      "CChhaaiirr Article IV - Manufacturing (PERSON)\n",
      "7/1/2025 ZZoonniinngg RReessoolluuttiioonn TTHHEE (FAC)\n",
      "PPLLAANNNNIINNGG CCOOMMMMIISSSSIIOONN (PERSON)\n",
      "MMaayyoorr DDaanniieell RR (PERSON)\n",
      "CChhaaiirr Chapter 1 - Statement of (PERSON)\n",
      "Legislative Intent File (ORG)\n",
      "7/1/2025 Chapter 1 - Statement of Legislative (PRODUCT)\n",
      "Resolution (FAC)\n",
      "Resolution (FAC)\n",
      "41-10 (CARDINAL)\n",
      "4/9/1981 (DATE)\n",
      "Residence (ORG)\n",
      "M1-5B (PRODUCT)\n",
      "M1-5M (PRODUCT)\n",
      "M1-6M Districts (PRODUCT)\n",
      "M1-1D (PRODUCT)\n",
      "M1-2D (PRODUCT)\n"
     ]
    }
   ],
   "source": [
    "print(\"\\n✅ Named Entities (first 20):\")\n",
    "for ent in doc.ents[:20]:\n",
    "    print(f\"{ent.text} ({ent.label_})\")\n"
   ]
  },
  {
   "cell_type": "code",
   "execution_count": 18,
   "id": "1527cb9d-fc0a-4fde-8112-76ddb4a353d2",
   "metadata": {},
   "outputs": [
    {
     "name": "stdout",
     "output_type": "stream",
     "text": [
      "\n",
      "✅ Keyword frequencies:\n",
      "renewable energy: 4\n",
      "solar: 3\n",
      "wind: 22\n",
      "battery: 1\n",
      "data center: 0\n",
      "manufacturing: 245\n",
      "industrial: 39\n",
      "special permit: 74\n",
      "environmental: 7\n",
      "community: 71\n",
      "equity: 0\n",
      "justice: 0\n",
      "public health: 6\n"
     ]
    }
   ],
   "source": [
    "# Define keywords to check\n",
    "keywords = [\n",
    "    \"renewable energy\", \"solar\", \"wind\", \"battery\", \n",
    "    \"data center\", \"manufacturing\", \"industrial\", \n",
    "    \"special permit\", \"environmental\", \"community\", \n",
    "    \"equity\", \"justice\", \"public health\"\n",
    "]\n",
    "\n",
    "# Lowercase text for search\n",
    "text_lower = cleaned_text.lower()\n",
    "\n",
    "# Count keyword occurrences\n",
    "keyword_counts = {kw: text_lower.count(kw) for kw in keywords}\n",
    "\n",
    "print(\"\\n✅ Keyword frequencies:\")\n",
    "for kw, count in keyword_counts.items():\n",
    "    print(f\"{kw}: {count}\")\n"
   ]
  },
  {
   "cell_type": "code",
   "execution_count": 19,
   "id": "7ea75fe2-a3d2-4ead-ba09-8b2a1ddee759",
   "metadata": {},
   "outputs": [
    {
     "name": "stdout",
     "output_type": "stream",
     "text": [
      "\n",
      "✅ Most common tokens (excluding stop words and punctuation):\n",
      "[('shall', 577), ('●', 570), ('Section', 464), ('M1', 450), ('P', 332), ('uses', 309), ('Districts', 298), ('42', 290), ('feet', 288), ('lot', 273), ('area', 271), ('Use', 259), ('use', 257), ('AMENDED', 253), ('parking', 248), ('Group', 234), ('permitted', 231), ('M2', 214), ('provisions', 212), ('street', 210)]\n"
     ]
    }
   ],
   "source": [
    "tokens = [token.text for token in doc if not token.is_stop and not token.is_punct]\n",
    "token_freq = Counter(tokens)\n",
    "\n",
    "print(\"\\n✅ Most common tokens (excluding stop words and punctuation):\")\n",
    "print(token_freq.most_common(20))\n"
   ]
  }
 ],
 "metadata": {
  "kernelspec": {
   "display_name": "Python 3 (ipykernel)",
   "language": "python",
   "name": "python3"
  },
  "language_info": {
   "codemirror_mode": {
    "name": "ipython",
    "version": 3
   },
   "file_extension": ".py",
   "mimetype": "text/x-python",
   "name": "python",
   "nbconvert_exporter": "python",
   "pygments_lexer": "ipython3",
   "version": "3.12.2"
  }
 },
 "nbformat": 4,
 "nbformat_minor": 5
}
